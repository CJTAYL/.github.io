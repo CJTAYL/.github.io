{
 "cells": [
  {
   "cell_type": "markdown",
   "metadata": {
    "id": "6ile1SOknxOe"
   },
   "source": [
    "# Effects of a Filtering on Point Differential Visualizations"
   ]
  },
  {
   "cell_type": "markdown",
   "metadata": {
    "id": "9-FXlJx3Sbsd"
   },
   "source": [
    "## Introduction"
   ]
  },
  {
   "cell_type": "markdown",
   "metadata": {
    "id": "zBLQoFvpRNxx"
   },
   "source": [
    "Basketball has become a data-driven sport, with coaches and fans reviewing statistics before, during, and after games. One of the most useful statistics in basketball is the point differential, which is calculated with the following formula:\n",
    "\n",
    "$$ Team - Opponent $$\n",
    "\n",
    "Where Team represents the score of the team of interest and Opponent represents the score of the opposing team. If, for example, the team of interest scored 100 points and the opponent scored 93 points, then the game had a point differential of seven. If the team of interest scored 88 points and the opponent scored 90 points, then the game had a point differential of negative two (Note: basketball games cannot end with tie scores).\n",
    "\n",
    "Visualizations displaying point differentials provide a wealth of information, like the outcome of game and margin of victory or defeat; however, they can be enhanced through the addition of other variables. One such variable is game location. The addition of game location might be of interest to coaches and fans since it can affect a teams' performance. Game location is organized into three categories: home, away, and neutral. For the purpose of this study, events occurring at the team of interest's arena were labeled as home games, events occurring at the opponent’s arena were labeled as away games, and events occurring at any other location were labeled as neutral site games. \n",
    "\n",
    "The goal of this project was gain user feedback about a filter for game location when using a point differential visualization. The following evaluation questions were developed to guide the project: \n",
    "- Is a filter for game location useful when analyzing point differential data?\n",
    "- Will users utilize the filter when using the visualization tool? "
   ]
  },
  {
   "cell_type": "markdown",
   "metadata": {
    "id": "GMINFCFdw6ZZ"
   },
   "source": [
    "## Modules Used"
   ]
  },
  {
   "cell_type": "code",
   "execution_count": 1,
   "metadata": {
    "id": "rzfjjTNjw93u"
   },
   "outputs": [],
   "source": [
    "import pandas as pd\n",
    "import altair as alt\n",
    "from tabulate import tabulate"
   ]
  },
  {
   "cell_type": "markdown",
   "metadata": {
    "id": "zh5b2XLsSxLH"
   },
   "source": [
    "## Data"
   ]
  },
  {
   "cell_type": "markdown",
   "metadata": {
    "id": "zcJ26c6mwp7O"
   },
   "source": [
    "The data used to create the visualization were retrieved from sports-reference.com and summarized the Colorado Buffaloes’ 2020 – 2021 basketball season. The data were downloaded as a CSV file, stored in a Github repository, then uploaded to Google Collaboratory using Pandas."
   ]
  },
  {
   "cell_type": "code",
   "execution_count": 2,
   "metadata": {
    "id": "VMvVJPS2hDzp"
   },
   "outputs": [],
   "source": [
    "# URL from GitHub repository\n",
    "url = 'https://raw.githubusercontent.com/CJTAYL/data/main/cu_20_21.csv?token=GHSAT0AAAAAAB4X6E3OE7K7SYWMRFCDYWAQY5I4SPQ'\n",
    "\n",
    "# Object containing data\n",
    "team = pd.read_csv(url, index_col=0)"
   ]
  },
  {
   "cell_type": "markdown",
   "metadata": {
    "id": "xX9VvSX1S5j1"
   },
   "source": [
    "## Visualization and Key Features"
   ]
  },
  {
   "cell_type": "markdown",
   "metadata": {
    "id": "U7TnOg9zxfaS"
   },
   "source": [
    "The visualization was a bar graph created using Altair. The key features of the visualization were (a) a y-axis that displayed positive and negative values, (b) bars that were color-coded by game location, (c) a filter for game location, and (d) a tool tip that displayed the opponent, point differential and game location. \n",
    "\n",
    "Point differentials were communicated using position (i.e., position on the y-axis) and game locations were communicated using color-coding. Specifically, positive values (i.e., bars above 0 on the y-axis) indicated margin of victory and negative values (i.e., bars below 0 on the y-axis) indicated the margin of defeat. \n",
    "\n",
    "Away games were represented by blue bars, home games were represented by orange bars, and neutral site games were represented by pink bars. \n",
    "\n",
    "The filter for game location was activated through the legend on the visualization. To activiate one of the three categories, the user clicked on one of the location categories. After activating the feature, the filtered category maintained its color and the non-filtered categories were shown with increased transparency.\n",
    "\n",
    "The tool tip was activated by hovering over an individual bar graph with the mouse.\n",
    "\n",
    "The visualization is displayed below. "
   ]
  },
  {
   "cell_type": "code",
   "execution_count": 7,
   "metadata": {
    "colab": {
     "base_uri": "https://localhost:8080/",
     "height": 525
    },
    "id": "yFKmfcuMSv_4",
    "outputId": "ef4a8e68-7e2e-468e-f6d1-88625d775d76"
   },
   "outputs": [
    {
     "data": {
      "text/html": [
       "\n",
       "<style>\n",
       "  #altair-viz-c4a1249dcb084fd2888ded2e49d38120.vega-embed {\n",
       "    width: 100%;\n",
       "    display: flex;\n",
       "  }\n",
       "\n",
       "  #altair-viz-c4a1249dcb084fd2888ded2e49d38120.vega-embed details,\n",
       "  #altair-viz-c4a1249dcb084fd2888ded2e49d38120.vega-embed details summary {\n",
       "    position: relative;\n",
       "  }\n",
       "</style>\n",
       "<div id=\"altair-viz-c4a1249dcb084fd2888ded2e49d38120\"></div>\n",
       "<script type=\"text/javascript\">\n",
       "  var VEGA_DEBUG = (typeof VEGA_DEBUG == \"undefined\") ? {} : VEGA_DEBUG;\n",
       "  (function(spec, embedOpt){\n",
       "    let outputDiv = document.currentScript.previousElementSibling;\n",
       "    if (outputDiv.id !== \"altair-viz-c4a1249dcb084fd2888ded2e49d38120\") {\n",
       "      outputDiv = document.getElementById(\"altair-viz-c4a1249dcb084fd2888ded2e49d38120\");\n",
       "    }\n",
       "    const paths = {\n",
       "      \"vega\": \"https://cdn.jsdelivr.net/npm/vega@5?noext\",\n",
       "      \"vega-lib\": \"https://cdn.jsdelivr.net/npm/vega-lib?noext\",\n",
       "      \"vega-lite\": \"https://cdn.jsdelivr.net/npm/vega-lite@5.8.0?noext\",\n",
       "      \"vega-embed\": \"https://cdn.jsdelivr.net/npm/vega-embed@6?noext\",\n",
       "    };\n",
       "\n",
       "    function maybeLoadScript(lib, version) {\n",
       "      var key = `${lib.replace(\"-\", \"\")}_version`;\n",
       "      return (VEGA_DEBUG[key] == version) ?\n",
       "        Promise.resolve(paths[lib]) :\n",
       "        new Promise(function(resolve, reject) {\n",
       "          var s = document.createElement('script');\n",
       "          document.getElementsByTagName(\"head\")[0].appendChild(s);\n",
       "          s.async = true;\n",
       "          s.onload = () => {\n",
       "            VEGA_DEBUG[key] = version;\n",
       "            return resolve(paths[lib]);\n",
       "          };\n",
       "          s.onerror = () => reject(`Error loading script: ${paths[lib]}`);\n",
       "          s.src = paths[lib];\n",
       "        });\n",
       "    }\n",
       "\n",
       "    function showError(err) {\n",
       "      outputDiv.innerHTML = `<div class=\"error\" style=\"color:red;\">${err}</div>`;\n",
       "      throw err;\n",
       "    }\n",
       "\n",
       "    function displayChart(vegaEmbed) {\n",
       "      vegaEmbed(outputDiv, spec, embedOpt)\n",
       "        .catch(err => showError(`Javascript Error: ${err.message}<br>This usually means there's a typo in your chart specification. See the javascript console for the full traceback.`));\n",
       "    }\n",
       "\n",
       "    if(typeof define === \"function\" && define.amd) {\n",
       "      requirejs.config({paths});\n",
       "      require([\"vega-embed\"], displayChart, err => showError(`Error loading script: ${err.message}`));\n",
       "    } else {\n",
       "      maybeLoadScript(\"vega\", \"5\")\n",
       "        .then(() => maybeLoadScript(\"vega-lite\", \"5.8.0\"))\n",
       "        .then(() => maybeLoadScript(\"vega-embed\", \"6\"))\n",
       "        .catch(showError)\n",
       "        .then(() => displayChart(vegaEmbed));\n",
       "    }\n",
       "  })({\"config\": {\"view\": {\"continuousWidth\": 300, \"continuousHeight\": 300}}, \"data\": {\"name\": \"data-938de189c5e47f000ff4bc7ce89e81d8\"}, \"mark\": {\"type\": \"bar\"}, \"encoding\": {\"color\": {\"field\": \"LOCATION\", \"type\": \"nominal\"}, \"opacity\": {\"condition\": {\"param\": \"param_3\", \"value\": 1}, \"value\": 0.1}, \"tooltip\": [{\"field\": \"OPP\", \"type\": \"nominal\"}, {\"field\": \"POINT_DIFF\", \"type\": \"quantitative\"}, {\"field\": \"LOCATION\", \"type\": \"nominal\"}], \"x\": {\"axis\": {\"labelAngle\": 45}, \"field\": \"DATE\", \"type\": \"temporal\"}, \"y\": {\"field\": \"POINT_DIFF\", \"type\": \"quantitative\"}}, \"height\": 400, \"params\": [{\"name\": \"param_3\", \"select\": {\"type\": \"point\", \"fields\": [\"LOCATION\"]}, \"bind\": \"legend\"}], \"title\": \"CU Basketball 2020 - 2021\", \"width\": 800, \"$schema\": \"https://vega.github.io/schema/vega-lite/v5.8.0.json\", \"datasets\": {\"data-938de189c5e47f000ff4bc7ce89e81d8\": [{\"DATE\": \"11/25/20\", \"LOCATION\": \"Neutral\", \"OPP\": \"South Dakota\", \"OUTCOME\": \"Win\", \"SCORE\": 84, \"OPP_SCORE\": 61, \"POINT_DIFF\": 23, \"FG\": 30, \"FGA\": 73, \"FG%\": 0.411, \"3P\": 10, \"3PA\": 25, \"3P%\": 0.4, \"FT\": 14, \"FTA\": 15, \"FT%\": 0.933, \"ORB\": 14, \"TRB\": 41, \"OPP_TRB\": 39, \"REB_DIFF\": 2, \"AST\": 20, \"STL\": 4, \"BLK\": 5, \"TOV\": 8, \"PF\": 22, \"OPP_FG\": 20, \"OPP_FGA\": 60, \"OPP_FG%\": 0.333, \"OPP_3P\": 3, \"OPP_3PA\": 20, \"OPP_3P%\": 0.15, \"OPP_FT\": 18, \"OPP_FTA\": 24, \"OPP_FT%\": 0.75, \"OPP_ORB\": 12, \"OPP_AST\": 9, \"OPP_STL\": 2, \"OPP_BLK\": 7, \"OPP_TOV\": 13, \"OPP_PF\": 16}, {\"DATE\": \"11/27/20\", \"LOCATION\": \"Away\", \"OPP\": \"Kansas State\", \"OUTCOME\": \"Win\", \"SCORE\": 76, \"OPP_SCORE\": 58, \"POINT_DIFF\": 18, \"FG\": 26, \"FGA\": 53, \"FG%\": 0.491, \"3P\": 6, \"3PA\": 21, \"3P%\": 0.286, \"FT\": 18, \"FTA\": 21, \"FT%\": 0.857, \"ORB\": 5, \"TRB\": 24, \"OPP_TRB\": 23, \"REB_DIFF\": 1, \"AST\": 13, \"STL\": 6, \"BLK\": 1, \"TOV\": 8, \"PF\": 13, \"OPP_FG\": 21, \"OPP_FGA\": 47, \"OPP_FG%\": 0.447, \"OPP_3P\": 10, \"OPP_3PA\": 26, \"OPP_3P%\": 0.385, \"OPP_FT\": 6, \"OPP_FTA\": 10, \"OPP_FT%\": 0.6, \"OPP_ORB\": 3, \"OPP_AST\": 14, \"OPP_STL\": 3, \"OPP_BLK\": 2, \"OPP_TOV\": 16, \"OPP_PF\": 21}, {\"DATE\": \"12/8/20\", \"LOCATION\": \"Away\", \"OPP\": \"Tennessee\", \"OUTCOME\": \"Loss\", \"SCORE\": 47, \"OPP_SCORE\": 56, \"POINT_DIFF\": -9, \"FG\": 16, \"FGA\": 48, \"FG%\": 0.333, \"3P\": 5, \"3PA\": 22, \"3P%\": 0.227, \"FT\": 10, \"FTA\": 12, \"FT%\": 0.833, \"ORB\": 8, \"TRB\": 34, \"OPP_TRB\": 30, \"REB_DIFF\": 4, \"AST\": 10, \"STL\": 5, \"BLK\": 0, \"TOV\": 22, \"PF\": 17, \"OPP_FG\": 19, \"OPP_FGA\": 53, \"OPP_FG%\": 0.358, \"OPP_3P\": 7, \"OPP_3PA\": 19, \"OPP_3P%\": 0.368, \"OPP_FT\": 11, \"OPP_FTA\": 15, \"OPP_FT%\": 0.733, \"OPP_ORB\": 11, \"OPP_AST\": 12, \"OPP_STL\": 12, \"OPP_BLK\": 1, \"OPP_TOV\": 15, \"OPP_PF\": 15}, {\"DATE\": \"12/14/20\", \"LOCATION\": \"Home\", \"OPP\": \"Northern Colorado\", \"OUTCOME\": \"Win\", \"SCORE\": 81, \"OPP_SCORE\": 45, \"POINT_DIFF\": 36, \"FG\": 32, \"FGA\": 60, \"FG%\": 0.533, \"3P\": 6, \"3PA\": 13, \"3P%\": 0.462, \"FT\": 11, \"FTA\": 15, \"FT%\": 0.733, \"ORB\": 7, \"TRB\": 35, \"OPP_TRB\": 26, \"REB_DIFF\": 9, \"AST\": 16, \"STL\": 10, \"BLK\": 8, \"TOV\": 13, \"PF\": 13, \"OPP_FG\": 15, \"OPP_FGA\": 52, \"OPP_FG%\": 0.288, \"OPP_3P\": 6, \"OPP_3PA\": 18, \"OPP_3P%\": 0.333, \"OPP_FT\": 9, \"OPP_FTA\": 12, \"OPP_FT%\": 0.75, \"OPP_ORB\": 7, \"OPP_AST\": 6, \"OPP_STL\": 3, \"OPP_BLK\": 2, \"OPP_TOV\": 21, \"OPP_PF\": 18}, {\"DATE\": \"12/16/20\", \"LOCATION\": \"Home\", \"OPP\": \"Omaha\", \"OUTCOME\": \"Win\", \"SCORE\": 91, \"OPP_SCORE\": 49, \"POINT_DIFF\": 42, \"FG\": 31, \"FGA\": 62, \"FG%\": 0.5, \"3P\": 11, \"3PA\": 26, \"3P%\": 0.423, \"FT\": 18, \"FTA\": 22, \"FT%\": 0.818, \"ORB\": 8, \"TRB\": 42, \"OPP_TRB\": 29, \"REB_DIFF\": 13, \"AST\": 18, \"STL\": 4, \"BLK\": 2, \"TOV\": 9, \"PF\": 15, \"OPP_FG\": 19, \"OPP_FGA\": 61, \"OPP_FG%\": 0.311, \"OPP_3P\": 5, \"OPP_3PA\": 17, \"OPP_3P%\": 0.294, \"OPP_FT\": 6, \"OPP_FTA\": 9, \"OPP_FT%\": 0.667, \"OPP_ORB\": 6, \"OPP_AST\": 14, \"OPP_STL\": 3, \"OPP_BLK\": 1, \"OPP_TOV\": 13, \"OPP_PF\": 22}, {\"DATE\": \"12/20/20\", \"LOCATION\": \"Neutral\", \"OPP\": \"Washington\", \"OUTCOME\": \"Win\", \"SCORE\": 92, \"OPP_SCORE\": 69, \"POINT_DIFF\": 23, \"FG\": 29, \"FGA\": 60, \"FG%\": 0.483, \"3P\": 8, \"3PA\": 20, \"3P%\": 0.4, \"FT\": 26, \"FTA\": 28, \"FT%\": 0.929, \"ORB\": 9, \"TRB\": 37, \"OPP_TRB\": 22, \"REB_DIFF\": 15, \"AST\": 21, \"STL\": 2, \"BLK\": 2, \"TOV\": 7, \"PF\": 19, \"OPP_FG\": 27, \"OPP_FGA\": 63, \"OPP_FG%\": 0.429, \"OPP_3P\": 4, \"OPP_3PA\": 18, \"OPP_3P%\": 0.222, \"OPP_FT\": 11, \"OPP_FTA\": 16, \"OPP_FT%\": 0.688, \"OPP_ORB\": 6, \"OPP_AST\": 10, \"OPP_STL\": 7, \"OPP_BLK\": 3, \"OPP_TOV\": 9, \"OPP_PF\": 20}, {\"DATE\": \"12/22/20\", \"LOCATION\": \"Neutral\", \"OPP\": \"Grand Canyon\", \"OUTCOME\": \"Win\", \"SCORE\": 74, \"OPP_SCORE\": 64, \"POINT_DIFF\": 10, \"FG\": 24, \"FGA\": 48, \"FG%\": 0.5, \"3P\": 8, \"3PA\": 17, \"3P%\": 0.471, \"FT\": 18, \"FTA\": 21, \"FT%\": 0.857, \"ORB\": 3, \"TRB\": 19, \"OPP_TRB\": 27, \"REB_DIFF\": -8, \"AST\": 10, \"STL\": 7, \"BLK\": 2, \"TOV\": 6, \"PF\": 15, \"OPP_FG\": 27, \"OPP_FGA\": 53, \"OPP_FG%\": 0.509, \"OPP_3P\": 5, \"OPP_3PA\": 20, \"OPP_3P%\": 0.25, \"OPP_FT\": 5, \"OPP_FTA\": 8, \"OPP_FT%\": 0.625, \"OPP_ORB\": 6, \"OPP_AST\": 15, \"OPP_STL\": 2, \"OPP_BLK\": 1, \"OPP_TOV\": 15, \"OPP_PF\": 17}, {\"DATE\": \"12/28/20\", \"LOCATION\": \"Away\", \"OPP\": \"Arizona\", \"OUTCOME\": \"Loss\", \"SCORE\": 74, \"OPP_SCORE\": 88, \"POINT_DIFF\": -14, \"FG\": 24, \"FGA\": 55, \"FG%\": 0.436, \"3P\": 12, \"3PA\": 26, \"3P%\": 0.462, \"FT\": 14, \"FTA\": 17, \"FT%\": 0.824, \"ORB\": 8, \"TRB\": 28, \"OPP_TRB\": 29, \"REB_DIFF\": -1, \"AST\": 14, \"STL\": 5, \"BLK\": 2, \"TOV\": 13, \"PF\": 22, \"OPP_FG\": 30, \"OPP_FGA\": 57, \"OPP_FG%\": 0.526, \"OPP_3P\": 8, \"OPP_3PA\": 17, \"OPP_3P%\": 0.471, \"OPP_FT\": 20, \"OPP_FTA\": 27, \"OPP_FT%\": 0.741, \"OPP_ORB\": 8, \"OPP_AST\": 20, \"OPP_STL\": 4, \"OPP_BLK\": 2, \"OPP_TOV\": 8, \"OPP_PF\": 17}, {\"DATE\": \"12/31/20\", \"LOCATION\": \"Away\", \"OPP\": \"USC\", \"OUTCOME\": \"Win\", \"SCORE\": 72, \"OPP_SCORE\": 62, \"POINT_DIFF\": 10, \"FG\": 25, \"FGA\": 60, \"FG%\": 0.417, \"3P\": 8, \"3PA\": 22, \"3P%\": 0.364, \"FT\": 14, \"FTA\": 16, \"FT%\": 0.875, \"ORB\": 9, \"TRB\": 35, \"OPP_TRB\": 32, \"REB_DIFF\": 3, \"AST\": 12, \"STL\": 6, \"BLK\": 2, \"TOV\": 11, \"PF\": 16, \"OPP_FG\": 23, \"OPP_FGA\": 60, \"OPP_FG%\": 0.383, \"OPP_3P\": 9, \"OPP_3PA\": 24, \"OPP_3P%\": 0.375, \"OPP_FT\": 7, \"OPP_FTA\": 10, \"OPP_FT%\": 0.7, \"OPP_ORB\": 10, \"OPP_AST\": 13, \"OPP_STL\": 7, \"OPP_BLK\": 3, \"OPP_TOV\": 15, \"OPP_PF\": 16}, {\"DATE\": \"1/2/21\", \"LOCATION\": \"Away\", \"OPP\": \"UCLA\", \"OUTCOME\": \"Loss\", \"SCORE\": 62, \"OPP_SCORE\": 65, \"POINT_DIFF\": -3, \"FG\": 23, \"FGA\": 53, \"FG%\": 0.434, \"3P\": 6, \"3PA\": 23, \"3P%\": 0.261, \"FT\": 10, \"FTA\": 13, \"FT%\": 0.769, \"ORB\": 7, \"TRB\": 26, \"OPP_TRB\": 30, \"REB_DIFF\": -4, \"AST\": 9, \"STL\": 5, \"BLK\": 1, \"TOV\": 11, \"PF\": 14, \"OPP_FG\": 25, \"OPP_FGA\": 53, \"OPP_FG%\": 0.472, \"OPP_3P\": 3, \"OPP_3PA\": 15, \"OPP_3P%\": 0.2, \"OPP_FT\": 12, \"OPP_FTA\": 14, \"OPP_FT%\": 0.857, \"OPP_ORB\": 9, \"OPP_AST\": 13, \"OPP_STL\": 4, \"OPP_BLK\": 1, \"OPP_TOV\": 12, \"OPP_PF\": 13}, {\"DATE\": \"1/7/21\", \"LOCATION\": \"Home\", \"OPP\": \"Oregon\", \"OUTCOME\": \"Win\", \"SCORE\": 79, \"OPP_SCORE\": 72, \"POINT_DIFF\": 7, \"FG\": 29, \"FGA\": 63, \"FG%\": 0.46, \"3P\": 7, \"3PA\": 27, \"3P%\": 0.259, \"FT\": 14, \"FTA\": 15, \"FT%\": 0.933, \"ORB\": 12, \"TRB\": 38, \"OPP_TRB\": 25, \"REB_DIFF\": 13, \"AST\": 12, \"STL\": 5, \"BLK\": 4, \"TOV\": 13, \"PF\": 17, \"OPP_FG\": 29, \"OPP_FGA\": 61, \"OPP_FG%\": 0.475, \"OPP_3P\": 7, \"OPP_3PA\": 19, \"OPP_3P%\": 0.368, \"OPP_FT\": 7, \"OPP_FTA\": 10, \"OPP_FT%\": 0.7, \"OPP_ORB\": 7, \"OPP_AST\": 11, \"OPP_STL\": 6, \"OPP_BLK\": 2, \"OPP_TOV\": 14, \"OPP_PF\": 16}, {\"DATE\": \"1/11/21\", \"LOCATION\": \"Away\", \"OPP\": \"Utah\", \"OUTCOME\": \"Win\", \"SCORE\": 65, \"OPP_SCORE\": 58, \"POINT_DIFF\": 7, \"FG\": 21, \"FGA\": 60, \"FG%\": 0.35, \"3P\": 5, \"3PA\": 19, \"3P%\": 0.263, \"FT\": 18, \"FTA\": 24, \"FT%\": 0.75, \"ORB\": 13, \"TRB\": 47, \"OPP_TRB\": 30, \"REB_DIFF\": 17, \"AST\": 11, \"STL\": 2, \"BLK\": 4, \"TOV\": 9, \"PF\": 14, \"OPP_FG\": 26, \"OPP_FGA\": 58, \"OPP_FG%\": 0.448, \"OPP_3P\": 4, \"OPP_3PA\": 19, \"OPP_3P%\": 0.211, \"OPP_FT\": 2, \"OPP_FTA\": 11, \"OPP_FT%\": 0.182, \"OPP_ORB\": 4, \"OPP_AST\": 13, \"OPP_STL\": 5, \"OPP_BLK\": 4, \"OPP_TOV\": 9, \"OPP_PF\": 21}, {\"DATE\": \"1/14/21\", \"LOCATION\": \"Home\", \"OPP\": \"California\", \"OUTCOME\": \"Win\", \"SCORE\": 89, \"OPP_SCORE\": 60, \"POINT_DIFF\": 29, \"FG\": 33, \"FGA\": 60, \"FG%\": 0.55, \"3P\": 12, \"3PA\": 21, \"3P%\": 0.571, \"FT\": 11, \"FTA\": 14, \"FT%\": 0.786, \"ORB\": 4, \"TRB\": 27, \"OPP_TRB\": 25, \"REB_DIFF\": 2, \"AST\": 18, \"STL\": 6, \"BLK\": 0, \"TOV\": 7, \"PF\": 17, \"OPP_FG\": 21, \"OPP_FGA\": 49, \"OPP_FG%\": 0.429, \"OPP_3P\": 7, \"OPP_3PA\": 19, \"OPP_3P%\": 0.368, \"OPP_FT\": 11, \"OPP_FTA\": 17, \"OPP_FT%\": 0.647, \"OPP_ORB\": 3, \"OPP_AST\": 11, \"OPP_STL\": 3, \"OPP_BLK\": 6, \"OPP_TOV\": 14, \"OPP_PF\": 14}, {\"DATE\": \"1/16/21\", \"LOCATION\": \"Home\", \"OPP\": \"Stanford\", \"OUTCOME\": \"Win\", \"SCORE\": 77, \"OPP_SCORE\": 64, \"POINT_DIFF\": 13, \"FG\": 28, \"FGA\": 68, \"FG%\": 0.412, \"3P\": 9, \"3PA\": 27, \"3P%\": 0.333, \"FT\": 12, \"FTA\": 13, \"FT%\": 0.923, \"ORB\": 11, \"TRB\": 38, \"OPP_TRB\": 31, \"REB_DIFF\": 7, \"AST\": 16, \"STL\": 6, \"BLK\": 5, \"TOV\": 9, \"PF\": 13, \"OPP_FG\": 22, \"OPP_FGA\": 60, \"OPP_FG%\": 0.367, \"OPP_3P\": 5, \"OPP_3PA\": 18, \"OPP_3P%\": 0.278, \"OPP_FT\": 15, \"OPP_FTA\": 15, \"OPP_FT%\": 1.0, \"OPP_ORB\": 8, \"OPP_AST\": 7, \"OPP_STL\": 5, \"OPP_BLK\": 4, \"OPP_TOV\": 14, \"OPP_PF\": 13}, {\"DATE\": \"1/20/21\", \"LOCATION\": \"Away\", \"OPP\": \"Washington\", \"OUTCOME\": \"Loss\", \"SCORE\": 80, \"OPP_SCORE\": 84, \"POINT_DIFF\": -4, \"FG\": 32, \"FGA\": 69, \"FG%\": 0.464, \"3P\": 1, \"3PA\": 18, \"3P%\": 0.056, \"FT\": 15, \"FTA\": 19, \"FT%\": 0.789, \"ORB\": 13, \"TRB\": 32, \"OPP_TRB\": 27, \"REB_DIFF\": 5, \"AST\": 12, \"STL\": 5, \"BLK\": 6, \"TOV\": 5, \"PF\": 19, \"OPP_FG\": 28, \"OPP_FGA\": 57, \"OPP_FG%\": 0.491, \"OPP_3P\": 12, \"OPP_3PA\": 25, \"OPP_3P%\": 0.48, \"OPP_FT\": 16, \"OPP_FTA\": 18, \"OPP_FT%\": 0.889, \"OPP_ORB\": 8, \"OPP_AST\": 9, \"OPP_STL\": 1, \"OPP_BLK\": 5, \"OPP_TOV\": 10, \"OPP_PF\": 16}, {\"DATE\": \"1/23/21\", \"LOCATION\": \"Away\", \"OPP\": \"Washington State\", \"OUTCOME\": \"Win\", \"SCORE\": 70, \"OPP_SCORE\": 59, \"POINT_DIFF\": 11, \"FG\": 26, \"FGA\": 52, \"FG%\": 0.5, \"3P\": 6, \"3PA\": 14, \"3P%\": 0.429, \"FT\": 12, \"FTA\": 15, \"FT%\": 0.8, \"ORB\": 2, \"TRB\": 23, \"OPP_TRB\": 28, \"REB_DIFF\": -5, \"AST\": 15, \"STL\": 4, \"BLK\": 6, \"TOV\": 11, \"PF\": 13, \"OPP_FG\": 22, \"OPP_FGA\": 52, \"OPP_FG%\": 0.423, \"OPP_3P\": 7, \"OPP_3PA\": 16, \"OPP_3P%\": 0.438, \"OPP_FT\": 8, \"OPP_FTA\": 10, \"OPP_FT%\": 0.8, \"OPP_ORB\": 6, \"OPP_AST\": 9, \"OPP_STL\": 6, \"OPP_BLK\": 2, \"OPP_TOV\": 13, \"OPP_PF\": 17}, {\"DATE\": \"1/27/21\", \"LOCATION\": \"Home\", \"OPP\": \"Washington State\", \"OUTCOME\": \"Win\", \"SCORE\": 70, \"OPP_SCORE\": 58, \"POINT_DIFF\": 12, \"FG\": 20, \"FGA\": 44, \"FG%\": 0.455, \"3P\": 10, \"3PA\": 17, \"3P%\": 0.588, \"FT\": 20, \"FTA\": 23, \"FT%\": 0.87, \"ORB\": 4, \"TRB\": 23, \"OPP_TRB\": 24, \"REB_DIFF\": -1, \"AST\": 16, \"STL\": 8, \"BLK\": 5, \"TOV\": 11, \"PF\": 14, \"OPP_FG\": 22, \"OPP_FGA\": 52, \"OPP_FG%\": 0.423, \"OPP_3P\": 7, \"OPP_3PA\": 20, \"OPP_3P%\": 0.35, \"OPP_FT\": 7, \"OPP_FTA\": 9, \"OPP_FT%\": 0.778, \"OPP_ORB\": 7, \"OPP_AST\": 7, \"OPP_STL\": 5, \"OPP_BLK\": 5, \"OPP_TOV\": 14, \"OPP_PF\": 21}, {\"DATE\": \"1/30/21\", \"LOCATION\": \"Home\", \"OPP\": \"Utah\", \"OUTCOME\": \"Loss\", \"SCORE\": 74, \"OPP_SCORE\": 77, \"POINT_DIFF\": -3, \"FG\": 28, \"FGA\": 61, \"FG%\": 0.459, \"3P\": 13, \"3PA\": 28, \"3P%\": 0.464, \"FT\": 5, \"FTA\": 6, \"FT%\": 0.833, \"ORB\": 6, \"TRB\": 27, \"OPP_TRB\": 29, \"REB_DIFF\": -2, \"AST\": 17, \"STL\": 5, \"BLK\": 3, \"TOV\": 10, \"PF\": 20, \"OPP_FG\": 26, \"OPP_FGA\": 52, \"OPP_FG%\": 0.5, \"OPP_3P\": 9, \"OPP_3PA\": 20, \"OPP_3P%\": 0.45, \"OPP_FT\": 16, \"OPP_FTA\": 19, \"OPP_FT%\": 0.842, \"OPP_ORB\": 4, \"OPP_AST\": 14, \"OPP_STL\": 3, \"OPP_BLK\": 2, \"OPP_TOV\": 10, \"OPP_PF\": 12}, {\"DATE\": \"2/6/21\", \"LOCATION\": \"Home\", \"OPP\": \"Arizona\", \"OUTCOME\": \"Win\", \"SCORE\": 82, \"OPP_SCORE\": 79, \"POINT_DIFF\": 3, \"FG\": 29, \"FGA\": 52, \"FG%\": 0.558, \"3P\": 11, \"3PA\": 20, \"3P%\": 0.55, \"FT\": 13, \"FTA\": 17, \"FT%\": 0.765, \"ORB\": 5, \"TRB\": 17, \"OPP_TRB\": 23, \"REB_DIFF\": -6, \"AST\": 15, \"STL\": 6, \"BLK\": 2, \"TOV\": 9, \"PF\": 21, \"OPP_FG\": 27, \"OPP_FGA\": 55, \"OPP_FG%\": 0.491, \"OPP_3P\": 7, \"OPP_3PA\": 17, \"OPP_3P%\": 0.412, \"OPP_FT\": 18, \"OPP_FTA\": 23, \"OPP_FT%\": 0.783, \"OPP_ORB\": 9, \"OPP_AST\": 18, \"OPP_STL\": 6, \"OPP_BLK\": 2, \"OPP_TOV\": 8, \"OPP_PF\": 15}, {\"DATE\": \"2/8/21\", \"LOCATION\": \"Home\", \"OPP\": \"Oregon State\", \"OUTCOME\": \"Win\", \"SCORE\": 78, \"OPP_SCORE\": 49, \"POINT_DIFF\": 29, \"FG\": 29, \"FGA\": 52, \"FG%\": 0.558, \"3P\": 5, \"3PA\": 13, \"3P%\": 0.385, \"FT\": 15, \"FTA\": 21, \"FT%\": 0.714, \"ORB\": 6, \"TRB\": 33, \"OPP_TRB\": 29, \"REB_DIFF\": 4, \"AST\": 18, \"STL\": 7, \"BLK\": 5, \"TOV\": 12, \"PF\": 17, \"OPP_FG\": 18, \"OPP_FGA\": 55, \"OPP_FG%\": 0.327, \"OPP_3P\": 4, \"OPP_3PA\": 16, \"OPP_3P%\": 0.25, \"OPP_FT\": 9, \"OPP_FTA\": 16, \"OPP_FT%\": 0.563, \"OPP_ORB\": 11, \"OPP_AST\": 7, \"OPP_STL\": 3, \"OPP_BLK\": 1, \"OPP_TOV\": 18, \"OPP_PF\": 17}, {\"DATE\": \"2/11/21\", \"LOCATION\": \"Away\", \"OPP\": \"Stanford\", \"OUTCOME\": \"Win\", \"SCORE\": 69, \"OPP_SCORE\": 51, \"POINT_DIFF\": 18, \"FG\": 28, \"FGA\": 57, \"FG%\": 0.491, \"3P\": 8, \"3PA\": 19, \"3P%\": 0.421, \"FT\": 5, \"FTA\": 6, \"FT%\": 0.833, \"ORB\": 6, \"TRB\": 32, \"OPP_TRB\": 23, \"REB_DIFF\": 9, \"AST\": 14, \"STL\": 4, \"BLK\": 1, \"TOV\": 9, \"PF\": 14, \"OPP_FG\": 19, \"OPP_FGA\": 48, \"OPP_FG%\": 0.396, \"OPP_3P\": 3, \"OPP_3PA\": 15, \"OPP_3P%\": 0.2, \"OPP_FT\": 10, \"OPP_FTA\": 11, \"OPP_FT%\": 0.909, \"OPP_ORB\": 4, \"OPP_AST\": 8, \"OPP_STL\": 4, \"OPP_BLK\": 5, \"OPP_TOV\": 12, \"OPP_PF\": 9}, {\"DATE\": \"2/13/21\", \"LOCATION\": \"Away\", \"OPP\": \"California\", \"OUTCOME\": \"Loss\", \"SCORE\": 62, \"OPP_SCORE\": 71, \"POINT_DIFF\": -9, \"FG\": 22, \"FGA\": 55, \"FG%\": 0.4, \"3P\": 3, \"3PA\": 15, \"3P%\": 0.2, \"FT\": 15, \"FTA\": 21, \"FT%\": 0.714, \"ORB\": 7, \"TRB\": 34, \"OPP_TRB\": 37, \"REB_DIFF\": -3, \"AST\": 5, \"STL\": 5, \"BLK\": 2, \"TOV\": 10, \"PF\": 19, \"OPP_FG\": 22, \"OPP_FGA\": 55, \"OPP_FG%\": 0.4, \"OPP_3P\": 7, \"OPP_3PA\": 22, \"OPP_3P%\": 0.318, \"OPP_FT\": 20, \"OPP_FTA\": 28, \"OPP_FT%\": 0.714, \"OPP_ORB\": 8, \"OPP_AST\": 13, \"OPP_STL\": 6, \"OPP_BLK\": 4, \"OPP_TOV\": 6, \"OPP_PF\": 20}, {\"DATE\": \"2/18/21\", \"LOCATION\": \"Away\", \"OPP\": \"Oregon\", \"OUTCOME\": \"Loss\", \"SCORE\": 56, \"OPP_SCORE\": 60, \"POINT_DIFF\": -4, \"FG\": 21, \"FGA\": 61, \"FG%\": 0.344, \"3P\": 6, \"3PA\": 27, \"3P%\": 0.222, \"FT\": 8, \"FTA\": 9, \"FT%\": 0.889, \"ORB\": 13, \"TRB\": 37, \"OPP_TRB\": 27, \"REB_DIFF\": 10, \"AST\": 8, \"STL\": 6, \"BLK\": 1, \"TOV\": 16, \"PF\": 16, \"OPP_FG\": 23, \"OPP_FGA\": 53, \"OPP_FG%\": 0.434, \"OPP_3P\": 4, \"OPP_3PA\": 17, \"OPP_3P%\": 0.235, \"OPP_FT\": 10, \"OPP_FTA\": 15, \"OPP_FT%\": 0.667, \"OPP_ORB\": 4, \"OPP_AST\": 5, \"OPP_STL\": 11, \"OPP_BLK\": 5, \"OPP_TOV\": 13, \"OPP_PF\": 12}, {\"DATE\": \"2/20/21\", \"LOCATION\": \"Away\", \"OPP\": \"Oregon State\", \"OUTCOME\": \"Win\", \"SCORE\": 61, \"OPP_SCORE\": 57, \"POINT_DIFF\": 4, \"FG\": 19, \"FGA\": 43, \"FG%\": 0.442, \"3P\": 4, \"3PA\": 18, \"3P%\": 0.222, \"FT\": 19, \"FTA\": 22, \"FT%\": 0.864, \"ORB\": 7, \"TRB\": 32, \"OPP_TRB\": 29, \"REB_DIFF\": 3, \"AST\": 8, \"STL\": 6, \"BLK\": 0, \"TOV\": 15, \"PF\": 16, \"OPP_FG\": 21, \"OPP_FGA\": 58, \"OPP_FG%\": 0.362, \"OPP_3P\": 6, \"OPP_3PA\": 22, \"OPP_3P%\": 0.273, \"OPP_FT\": 9, \"OPP_FTA\": 12, \"OPP_FT%\": 0.75, \"OPP_ORB\": 12, \"OPP_AST\": 14, \"OPP_STL\": 6, \"OPP_BLK\": 1, \"OPP_TOV\": 12, \"OPP_PF\": 17}, {\"DATE\": \"2/25/21\", \"LOCATION\": \"Home\", \"OPP\": \"USC\", \"OUTCOME\": \"Win\", \"SCORE\": 80, \"OPP_SCORE\": 62, \"POINT_DIFF\": 18, \"FG\": 27, \"FGA\": 57, \"FG%\": 0.474, \"3P\": 12, \"3PA\": 22, \"3P%\": 0.545, \"FT\": 14, \"FTA\": 15, \"FT%\": 0.933, \"ORB\": 7, \"TRB\": 32, \"OPP_TRB\": 30, \"REB_DIFF\": 2, \"AST\": 20, \"STL\": 7, \"BLK\": 3, \"TOV\": 9, \"PF\": 17, \"OPP_FG\": 23, \"OPP_FGA\": 60, \"OPP_FG%\": 0.383, \"OPP_3P\": 5, \"OPP_3PA\": 16, \"OPP_3P%\": 0.313, \"OPP_FT\": 11, \"OPP_FTA\": 18, \"OPP_FT%\": 0.611, \"OPP_ORB\": 10, \"OPP_AST\": 7, \"OPP_STL\": 4, \"OPP_BLK\": 3, \"OPP_TOV\": 12, \"OPP_PF\": 15}, {\"DATE\": \"2/27/21\", \"LOCATION\": \"Home\", \"OPP\": \"UCLA\", \"OUTCOME\": \"Win\", \"SCORE\": 70, \"OPP_SCORE\": 61, \"POINT_DIFF\": 9, \"FG\": 25, \"FGA\": 54, \"FG%\": 0.463, \"3P\": 5, \"3PA\": 15, \"3P%\": 0.333, \"FT\": 15, \"FTA\": 18, \"FT%\": 0.833, \"ORB\": 7, \"TRB\": 26, \"OPP_TRB\": 27, \"REB_DIFF\": -1, \"AST\": 9, \"STL\": 4, \"BLK\": 2, \"TOV\": 6, \"PF\": 14, \"OPP_FG\": 21, \"OPP_FGA\": 46, \"OPP_FG%\": 0.457, \"OPP_3P\": 5, \"OPP_3PA\": 13, \"OPP_3P%\": 0.385, \"OPP_FT\": 14, \"OPP_FTA\": 19, \"OPP_FT%\": 0.737, \"OPP_ORB\": 5, \"OPP_AST\": 9, \"OPP_STL\": 3, \"OPP_BLK\": 1, \"OPP_TOV\": 14, \"OPP_PF\": 17}, {\"DATE\": \"3/4/21\", \"LOCATION\": \"Home\", \"OPP\": \"Arizona State\", \"OUTCOME\": \"Win\", \"SCORE\": 75, \"OPP_SCORE\": 61, \"POINT_DIFF\": 14, \"FG\": 26, \"FGA\": 57, \"FG%\": 0.456, \"3P\": 6, \"3PA\": 19, \"3P%\": 0.316, \"FT\": 17, \"FTA\": 19, \"FT%\": 0.895, \"ORB\": 12, \"TRB\": 43, \"OPP_TRB\": 27, \"REB_DIFF\": 16, \"AST\": 12, \"STL\": 4, \"BLK\": 3, \"TOV\": 13, \"PF\": 15, \"OPP_FG\": 20, \"OPP_FGA\": 58, \"OPP_FG%\": 0.345, \"OPP_3P\": 7, \"OPP_3PA\": 19, \"OPP_3P%\": 0.368, \"OPP_FT\": 14, \"OPP_FTA\": 16, \"OPP_FT%\": 0.875, \"OPP_ORB\": 7, \"OPP_AST\": 9, \"OPP_STL\": 6, \"OPP_BLK\": 2, \"OPP_TOV\": 11, \"OPP_PF\": 18}, {\"DATE\": \"3/11/21\", \"LOCATION\": \"Neutral\", \"OPP\": \"California\", \"OUTCOME\": \"Win\", \"SCORE\": 61, \"OPP_SCORE\": 58, \"POINT_DIFF\": 3, \"FG\": 20, \"FGA\": 52, \"FG%\": 0.385, \"3P\": 3, \"3PA\": 14, \"3P%\": 0.214, \"FT\": 18, \"FTA\": 23, \"FT%\": 0.783, \"ORB\": 8, \"TRB\": 30, \"OPP_TRB\": 25, \"REB_DIFF\": 5, \"AST\": 8, \"STL\": 8, \"BLK\": 2, \"TOV\": 8, \"PF\": 17, \"OPP_FG\": 18, \"OPP_FGA\": 47, \"OPP_FG%\": 0.383, \"OPP_3P\": 7, \"OPP_3PA\": 25, \"OPP_3P%\": 0.28, \"OPP_FT\": 15, \"OPP_FTA\": 20, \"OPP_FT%\": 0.75, \"OPP_ORB\": 5, \"OPP_AST\": 7, \"OPP_STL\": 1, \"OPP_BLK\": 2, \"OPP_TOV\": 13, \"OPP_PF\": 23}, {\"DATE\": \"3/12/21\", \"LOCATION\": \"Neutral\", \"OPP\": \"USC\", \"OUTCOME\": \"Win\", \"SCORE\": 72, \"OPP_SCORE\": 70, \"POINT_DIFF\": 2, \"FG\": 26, \"FGA\": 61, \"FG%\": 0.426, \"3P\": 12, \"3PA\": 24, \"3P%\": 0.5, \"FT\": 8, \"FTA\": 10, \"FT%\": 0.8, \"ORB\": 10, \"TRB\": 32, \"OPP_TRB\": 29, \"REB_DIFF\": 3, \"AST\": 10, \"STL\": 5, \"BLK\": 3, \"TOV\": 10, \"PF\": 13, \"OPP_FG\": 28, \"OPP_FGA\": 54, \"OPP_FG%\": 0.519, \"OPP_3P\": 8, \"OPP_3PA\": 17, \"OPP_3P%\": 0.471, \"OPP_FT\": 6, \"OPP_FTA\": 12, \"OPP_FT%\": 0.5, \"OPP_ORB\": 8, \"OPP_AST\": 12, \"OPP_STL\": 3, \"OPP_BLK\": 6, \"OPP_TOV\": 10, \"OPP_PF\": 11}, {\"DATE\": \"3/13/21\", \"LOCATION\": \"Neutral\", \"OPP\": \"Oregon State\", \"OUTCOME\": \"Loss\", \"SCORE\": 68, \"OPP_SCORE\": 70, \"POINT_DIFF\": -2, \"FG\": 25, \"FGA\": 53, \"FG%\": 0.472, \"3P\": 6, \"3PA\": 19, \"3P%\": 0.316, \"FT\": 12, \"FTA\": 20, \"FT%\": 0.6, \"ORB\": 11, \"TRB\": 30, \"OPP_TRB\": 27, \"REB_DIFF\": 3, \"AST\": 10, \"STL\": 2, \"BLK\": 1, \"TOV\": 8, \"PF\": 15, \"OPP_FG\": 25, \"OPP_FGA\": 52, \"OPP_FG%\": 0.481, \"OPP_3P\": 9, \"OPP_3PA\": 22, \"OPP_3P%\": 0.409, \"OPP_FT\": 11, \"OPP_FTA\": 16, \"OPP_FT%\": 0.688, \"OPP_ORB\": 8, \"OPP_AST\": 14, \"OPP_STL\": 3, \"OPP_BLK\": 1, \"OPP_TOV\": 6, \"OPP_PF\": 19}, {\"DATE\": \"3/20/21\", \"LOCATION\": \"Neutral\", \"OPP\": \"Georgetown\", \"OUTCOME\": \"Win\", \"SCORE\": 96, \"OPP_SCORE\": 73, \"POINT_DIFF\": 23, \"FG\": 34, \"FGA\": 56, \"FG%\": 0.607, \"3P\": 16, \"3PA\": 25, \"3P%\": 0.64, \"FT\": 12, \"FTA\": 14, \"FT%\": 0.857, \"ORB\": 1, \"TRB\": 26, \"OPP_TRB\": 25, \"REB_DIFF\": 1, \"AST\": 27, \"STL\": 3, \"BLK\": 3, \"TOV\": 11, \"PF\": 17, \"OPP_FG\": 23, \"OPP_FGA\": 58, \"OPP_FG%\": 0.397, \"OPP_3P\": 8, \"OPP_3PA\": 24, \"OPP_3P%\": 0.333, \"OPP_FT\": 19, \"OPP_FTA\": 26, \"OPP_FT%\": 0.731, \"OPP_ORB\": 6, \"OPP_AST\": 12, \"OPP_STL\": 5, \"OPP_BLK\": 4, \"OPP_TOV\": 12, \"OPP_PF\": 16}, {\"DATE\": \"3/22/21\", \"LOCATION\": \"Neutral\", \"OPP\": \"Florida State\", \"OUTCOME\": \"Loss\", \"SCORE\": 53, \"OPP_SCORE\": 71, \"POINT_DIFF\": -18, \"FG\": 20, \"FGA\": 56, \"FG%\": 0.357, \"3P\": 6, \"3PA\": 25, \"3P%\": 0.24, \"FT\": 7, \"FTA\": 11, \"FT%\": 0.636, \"ORB\": 15, \"TRB\": 29, \"OPP_TRB\": 24, \"REB_DIFF\": 5, \"AST\": 12, \"STL\": 5, \"BLK\": 2, \"TOV\": 18, \"PF\": 22, \"OPP_FG\": 24, \"OPP_FGA\": 46, \"OPP_FG%\": 0.522, \"OPP_3P\": 6, \"OPP_3PA\": 17, \"OPP_3P%\": 0.353, \"OPP_FT\": 17, \"OPP_FTA\": 21, \"OPP_FT%\": 0.81, \"OPP_ORB\": 5, \"OPP_AST\": 16, \"OPP_STL\": 10, \"OPP_BLK\": 3, \"OPP_TOV\": 13, \"OPP_PF\": 15}]}}, {\"mode\": \"vega-lite\"});\n",
       "</script>"
      ],
      "text/plain": [
       "alt.Chart(...)"
      ]
     },
     "execution_count": 7,
     "metadata": {},
     "output_type": "execute_result"
    }
   ],
   "source": [
    "# Code for filtering feature\n",
    "selection = alt.selection_point(fields = [\"LOCATION\"], bind = \"legend\")\n",
    "\n",
    "# Code for visualization\n",
    "alt.Chart(team).mark_bar().encode(\n",
    "    x = alt.X(\"DATE:T\", axis = alt.Axis(labelAngle=45)),\n",
    "    y = \"POINT_DIFF:Q\",\n",
    "    color = \"LOCATION:N\",\n",
    "    opacity = alt.condition(selection, alt.value(1), alt.value(.1)),\n",
    "    tooltip=[\"OPP\", \"POINT_DIFF\", \"LOCATION\"]\n",
    ").properties(\n",
    "    title=\"CU Basketball 2020 - 2021\",\n",
    "    width=800,\n",
    "    height=400\n",
    ").add_params(\n",
    "    selection\n",
    ")"
   ]
  },
  {
   "cell_type": "markdown",
   "metadata": {
    "id": "BblYzUHcNBWJ"
   },
   "source": [
    "## Evaluation"
   ]
  },
  {
   "cell_type": "markdown",
   "metadata": {
    "id": "n6zIqqeqyAPU"
   },
   "source": [
    "Qualitative methods were used to answer the evaluation questions. Three participants were recruited from a pool of family members and friends of the tool’s creator. The respondents’ demographic information is provided in the table below. "
   ]
  },
  {
   "cell_type": "code",
   "execution_count": 4,
   "metadata": {
    "colab": {
     "base_uri": "https://localhost:8080/"
    },
    "id": "AxXrHgByyrUm",
    "outputId": "a6b59c72-0f77-4321-d871-6fa9cb591c53"
   },
   "outputs": [
    {
     "name": "stdout",
     "output_type": "stream",
     "text": [
      "+------------+-----+--------+-------+\n",
      "| Respondent | Age |  Sex   | Race  |\n",
      "+------------+-----+--------+-------+\n",
      "|     1      | 39  | Female | White |\n",
      "|     2      | 37  |  Male  | White |\n",
      "|     3      | 36  |  Male  | White |\n",
      "+------------+-----+--------+-------+\n"
     ]
    }
   ],
   "source": [
    "# Dictionary with respondent demographic information\n",
    "info = { 'Respondent': [1, 2, 3],\n",
    "            'Age': [39, 37, 36],\n",
    "            'Sex': ['Female', 'Male', 'Male'],\n",
    "            'Race': ['White', 'White', 'White']}\n",
    "\n",
    "# Create dataframe with respondent information\n",
    "respondent_df = pd.DataFrame(info)\n",
    "\n",
    "# Create table using tabulate\n",
    "print(tabulate(respondent_df, headers= 'keys', showindex= False, tablefmt= 'pretty'))\n"
   ]
  },
  {
   "cell_type": "markdown",
   "metadata": {
    "id": "K7Y7d__NyGyT"
   },
   "source": [
    "The respondents were emailed written directions and hyperlinks to access the tool and a Google Forms document with the evaluation questions. The directions requested the respondents use the visualization for approximately 5-minutes, then complete a Google Form document that consisted of two of statements with 5-point Likert scale. The responses in the Likert scale ranged were 1: Strongly Disagree, 2: Disagree, 3: Neither Agree nor Disagree, 4: Agree, and 5: Strongly Agree. "
   ]
  },
  {
   "cell_type": "markdown",
   "metadata": {
    "id": "f4pjOBCkyLza"
   },
   "source": [
    "The statements were: \n",
    "\n",
    "1.\tI find the filtering feature useful. \n",
    "2.\tIf available, I would use the filtering feature when reviewing point differential data. \n",
    "\n",
    "The results of the survey are displayed below:\n"
   ]
  },
  {
   "cell_type": "code",
   "execution_count": 5,
   "metadata": {
    "colab": {
     "base_uri": "https://localhost:8080/",
     "height": 353
    },
    "id": "kaYlEaZC1mMs",
    "outputId": "e0ca5bab-0a98-4dbd-dc4d-bb3da1e2529e"
   },
   "outputs": [
    {
     "data": {
      "text/html": [
       "\n",
       "<style>\n",
       "  #altair-viz-dfacf81165d84998a2228100f249fd51.vega-embed {\n",
       "    width: 100%;\n",
       "    display: flex;\n",
       "  }\n",
       "\n",
       "  #altair-viz-dfacf81165d84998a2228100f249fd51.vega-embed details,\n",
       "  #altair-viz-dfacf81165d84998a2228100f249fd51.vega-embed details summary {\n",
       "    position: relative;\n",
       "  }\n",
       "</style>\n",
       "<div id=\"altair-viz-dfacf81165d84998a2228100f249fd51\"></div>\n",
       "<script type=\"text/javascript\">\n",
       "  var VEGA_DEBUG = (typeof VEGA_DEBUG == \"undefined\") ? {} : VEGA_DEBUG;\n",
       "  (function(spec, embedOpt){\n",
       "    let outputDiv = document.currentScript.previousElementSibling;\n",
       "    if (outputDiv.id !== \"altair-viz-dfacf81165d84998a2228100f249fd51\") {\n",
       "      outputDiv = document.getElementById(\"altair-viz-dfacf81165d84998a2228100f249fd51\");\n",
       "    }\n",
       "    const paths = {\n",
       "      \"vega\": \"https://cdn.jsdelivr.net/npm/vega@5?noext\",\n",
       "      \"vega-lib\": \"https://cdn.jsdelivr.net/npm/vega-lib?noext\",\n",
       "      \"vega-lite\": \"https://cdn.jsdelivr.net/npm/vega-lite@5.8.0?noext\",\n",
       "      \"vega-embed\": \"https://cdn.jsdelivr.net/npm/vega-embed@6?noext\",\n",
       "    };\n",
       "\n",
       "    function maybeLoadScript(lib, version) {\n",
       "      var key = `${lib.replace(\"-\", \"\")}_version`;\n",
       "      return (VEGA_DEBUG[key] == version) ?\n",
       "        Promise.resolve(paths[lib]) :\n",
       "        new Promise(function(resolve, reject) {\n",
       "          var s = document.createElement('script');\n",
       "          document.getElementsByTagName(\"head\")[0].appendChild(s);\n",
       "          s.async = true;\n",
       "          s.onload = () => {\n",
       "            VEGA_DEBUG[key] = version;\n",
       "            return resolve(paths[lib]);\n",
       "          };\n",
       "          s.onerror = () => reject(`Error loading script: ${paths[lib]}`);\n",
       "          s.src = paths[lib];\n",
       "        });\n",
       "    }\n",
       "\n",
       "    function showError(err) {\n",
       "      outputDiv.innerHTML = `<div class=\"error\" style=\"color:red;\">${err}</div>`;\n",
       "      throw err;\n",
       "    }\n",
       "\n",
       "    function displayChart(vegaEmbed) {\n",
       "      vegaEmbed(outputDiv, spec, embedOpt)\n",
       "        .catch(err => showError(`Javascript Error: ${err.message}<br>This usually means there's a typo in your chart specification. See the javascript console for the full traceback.`));\n",
       "    }\n",
       "\n",
       "    if(typeof define === \"function\" && define.amd) {\n",
       "      requirejs.config({paths});\n",
       "      require([\"vega-embed\"], displayChart, err => showError(`Error loading script: ${err.message}`));\n",
       "    } else {\n",
       "      maybeLoadScript(\"vega\", \"5\")\n",
       "        .then(() => maybeLoadScript(\"vega-lite\", \"5.8.0\"))\n",
       "        .then(() => maybeLoadScript(\"vega-embed\", \"6\"))\n",
       "        .catch(showError)\n",
       "        .then(() => displayChart(vegaEmbed));\n",
       "    }\n",
       "  })({\"config\": {\"view\": {\"continuousWidth\": 300, \"continuousHeight\": 300}}, \"vconcat\": [{\"data\": {\"name\": \"data-720bf7bbf6066891345d7b2f3cb2ac52\"}, \"mark\": {\"type\": \"bar\"}, \"encoding\": {\"x\": {\"field\": \"Percent\", \"title\": \"Percent of Respondents\", \"type\": \"quantitative\"}, \"y\": {\"field\": \"Response\", \"title\": \"\", \"type\": \"nominal\"}}, \"title\": \"Statement 1: I find the filtering feature useful.\", \"width\": 600}, {\"data\": {\"name\": \"data-720bf7bbf6066891345d7b2f3cb2ac52\"}, \"mark\": {\"type\": \"bar\"}, \"encoding\": {\"x\": {\"field\": \"Percent\", \"title\": \"Percent of Respondents\", \"type\": \"quantitative\"}, \"y\": {\"field\": \"Response\", \"title\": \"\", \"type\": \"nominal\"}}, \"title\": \"Statement 2: If available, I would use the filtering feature to analyze point differential data.\", \"width\": 600}], \"$schema\": \"https://vega.github.io/schema/vega-lite/v5.8.0.json\", \"datasets\": {\"data-720bf7bbf6066891345d7b2f3cb2ac52\": [{\"Response\": \"1. Strongly Disagree\", \"Percent\": 0}, {\"Response\": \"2. Disagree\", \"Percent\": 0}, {\"Response\": \"3. Neither Agree nor Disagree\", \"Percent\": 0}, {\"Response\": \"4. Agree\", \"Percent\": 0}, {\"Response\": \"5. Strongly Agree\", \"Percent\": 100}]}}, {\"mode\": \"vega-lite\"});\n",
       "</script>"
      ],
      "text/plain": [
       "alt.VConcatChart(...)"
      ]
     },
     "execution_count": 5,
     "metadata": {},
     "output_type": "execute_result"
    }
   ],
   "source": [
    "# Aggregated data from respondents\n",
    "data = [['1. Strongly Disagree', 0], ['2. Disagree', 0], ['3. Neither Agree nor Disagree' ,0], ['4. Agree', 0], ['5. Strongly Agree', 100]]\n",
    "\n",
    "# Creating dataframe of respondent data from first statement\n",
    "df = pd.DataFrame(data, columns=['Response', 'Percent'])\n",
    "\n",
    "# Graphing the results of the first statement\n",
    "p1 = alt.Chart(df).mark_bar().encode(\n",
    "    y = alt.Y('Response', title = ''),\n",
    "    x = alt.X('Percent', title = 'Percent of Respondents')\n",
    ").properties(\n",
    "    title = 'Statement 1: I find the filtering feature useful.',\n",
    "    width = 600\n",
    ")\n",
    "\n",
    "# Creating dataframe of respondent data from second statement\n",
    "df2 = pd.DataFrame(data, columns=['Response', 'Percent'])\n",
    "\n",
    "# Graphing the results of the second statement\n",
    "p2 = alt.Chart(df2).mark_bar().encode(\n",
    "    y = alt.Y('Response', title = ''),\n",
    "    x = alt.X('Percent', title = 'Percent of Respondents')\n",
    ").properties(\n",
    "    title = 'Statement 2: If available, I would use the filtering feature to analyze point differential data.',\n",
    "    width = 600\n",
    ")\n",
    "\n",
    "# Plotting side-by-side graphs\n",
    "p1 & p2\n"
   ]
  },
  {
   "cell_type": "markdown",
   "metadata": {
    "id": "shHxViQZycbc"
   },
   "source": [
    "All respondents rated both statements as “Strongly Agree”."
   ]
  },
  {
   "cell_type": "markdown",
   "metadata": {
    "id": "T9rXTZBRygOs"
   },
   "source": [
    "## Conclusion"
   ]
  },
  {
   "cell_type": "markdown",
   "metadata": {
    "id": "1VJgr10wylub"
   },
   "source": [
    "The results of the survey indicate the filter for game location was well-liked and would be used if available. Although the results of the evaluation were encouraging, they should be interpreted with caution due to two limiting factors. First, only three individuals used the tool. Second, the respondents had a personal relationship with the tool’s creator. Both factors may have created biases and limit the generality of the results. Future iterations of the project will address these limitations by including a larger, more diverse pool of independent respondents. If the results of the evaluation are replicated, an evaluation of the filter’s effects on users’ ability to interpret data quickly and accurately will be commissioned. "
   ]
  }
 ],
 "metadata": {
  "colab": {
   "provenance": []
  },
  "kernelspec": {
   "display_name": "Python 3 (ipykernel)",
   "language": "python",
   "name": "python3"
  },
  "language_info": {
   "codemirror_mode": {
    "name": "ipython",
    "version": 3
   },
   "file_extension": ".py",
   "mimetype": "text/x-python",
   "name": "python",
   "nbconvert_exporter": "python",
   "pygments_lexer": "ipython3",
   "version": "3.10.9"
  }
 },
 "nbformat": 4,
 "nbformat_minor": 1
}
